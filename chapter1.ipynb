{
 "cells": [
  {
   "cell_type": "code",
   "execution_count": 1,
   "metadata": {},
   "outputs": [],
   "source": [
    "import numpy as np\n",
    "from scipy.stats import binom\n",
    "import matplotlib.pyplot as plt"
   ]
  },
  {
   "cell_type": "code",
   "execution_count": 2,
   "metadata": {},
   "outputs": [],
   "source": [
    "n = 100"
   ]
  },
  {
   "cell_type": "code",
   "execution_count": 21,
   "metadata": {},
   "outputs": [
    {
     "data": {
      "text/plain": [
       "array([0.        , 0.01010101, 0.02020202, 0.03030303, 0.04040404,\n",
       "       0.05050505, 0.06060606, 0.07070707, 0.08080808, 0.09090909,\n",
       "       0.1010101 , 0.11111111, 0.12121212, 0.13131313, 0.14141414,\n",
       "       0.15151515, 0.16161616, 0.17171717, 0.18181818, 0.19191919,\n",
       "       0.2020202 , 0.21212121, 0.22222222, 0.23232323, 0.24242424,\n",
       "       0.25252525, 0.26262626, 0.27272727, 0.28282828, 0.29292929,\n",
       "       0.3030303 , 0.31313131, 0.32323232, 0.33333333, 0.34343434,\n",
       "       0.35353535, 0.36363636, 0.37373737, 0.38383838, 0.39393939,\n",
       "       0.4040404 , 0.41414141, 0.42424242, 0.43434343, 0.44444444,\n",
       "       0.45454545, 0.46464646, 0.47474747, 0.48484848, 0.49494949,\n",
       "       0.50505051, 0.51515152, 0.52525253, 0.53535354, 0.54545455,\n",
       "       0.55555556, 0.56565657, 0.57575758, 0.58585859, 0.5959596 ,\n",
       "       0.60606061, 0.61616162, 0.62626263, 0.63636364, 0.64646465,\n",
       "       0.65656566, 0.66666667, 0.67676768, 0.68686869, 0.6969697 ,\n",
       "       0.70707071, 0.71717172, 0.72727273, 0.73737374, 0.74747475,\n",
       "       0.75757576, 0.76767677, 0.77777778, 0.78787879, 0.7979798 ,\n",
       "       0.80808081, 0.81818182, 0.82828283, 0.83838384, 0.84848485,\n",
       "       0.85858586, 0.86868687, 0.87878788, 0.88888889, 0.8989899 ,\n",
       "       0.90909091, 0.91919192, 0.92929293, 0.93939394, 0.94949495,\n",
       "       0.95959596, 0.96969697, 0.97979798, 0.98989899, 1.        ])"
      ]
     },
     "execution_count": 21,
     "metadata": {},
     "output_type": "execute_result"
    }
   ],
   "source": [
    "p_grid = np.linspace(0, 1, n)\n",
    "p_grid"
   ]
  },
  {
   "cell_type": "code",
   "execution_count": 27,
   "metadata": {},
   "outputs": [
    {
     "data": {
      "text/plain": [
       "array([0, 0, 0, 0, 0, 0, 0, 0, 0, 0, 0, 0, 0, 0, 0, 0, 0, 0, 0, 0, 0, 0,\n",
       "       0, 0, 0, 0, 0, 0, 0, 0, 0, 0, 0, 0, 0, 0, 0, 0, 0, 0, 0, 0, 0, 0,\n",
       "       0, 0, 0, 0, 0, 0, 1, 1, 1, 1, 1, 1, 1, 1, 1, 1, 1, 1, 1, 1, 1, 1,\n",
       "       1, 1, 1, 1, 1, 1, 1, 1, 1, 1, 1, 1, 1, 1, 1, 1, 1, 1, 1, 1, 1, 1,\n",
       "       1, 1, 1, 1, 1, 1, 1, 1, 1, 1, 1, 1])"
      ]
     },
     "execution_count": 27,
     "metadata": {},
     "output_type": "execute_result"
    }
   ],
   "source": [
    "prior = np.ones(n)\n",
    "prior = np.where((p_grid<0.5),0,1)\n",
    "prior"
   ]
  },
  {
   "cell_type": "code",
   "execution_count": 28,
   "metadata": {},
   "outputs": [],
   "source": [
    "likelihood = binom.pmf(5, 7, p_grid)"
   ]
  },
  {
   "cell_type": "code",
   "execution_count": 29,
   "metadata": {},
   "outputs": [],
   "source": [
    "unstd_posterior = likelihood*prior"
   ]
  },
  {
   "cell_type": "code",
   "execution_count": 30,
   "metadata": {},
   "outputs": [],
   "source": [
    "posterior = unstd_posterior/ np.sum(unstd_posterior)"
   ]
  },
  {
   "cell_type": "code",
   "execution_count": 31,
   "metadata": {},
   "outputs": [
    {
     "data": {
      "image/png": "[encoded data removed]",
      "text/plain": [
       "<Figure size 640x480 with 1 Axes>"
      ]
     },
     "metadata": {},
     "output_type": "display_data"
    }
   ],
   "source": [
    "plt.plot(p_grid, posterior);"
   ]
  },
  {
   "cell_type": "code",
   "execution_count": 2,
   "metadata": {},
   "outputs": [
    {
     "name": "stdout",
     "output_type": "stream",
     "text": [
      "The estimated probability that the side facing down is black is 0.6669697881376953\n"
     ]
    }
   ],
   "source": [
    "import random\n",
    "\n",
    "# Define the cards\n",
    "cards = [('black', 'black'), ('black', 'white'), ('white', 'white')]\n",
    "\n",
    "# Number of simulations\n",
    "n_simulations = 1_000_000\n",
    "\n",
    "# Counter for the times the other side is black\n",
    "black_down_counter = 0\n",
    "black_up_counter = 0\n",
    "\n",
    "for _ in range(n_simulations):\n",
    "    # Draw a card\n",
    "    card = random.choice(cards)\n",
    "    \n",
    "    # Choose a side\n",
    "    side_up = random.choice(card)\n",
    "    \n",
    "    # If the chosen side is black\n",
    "    if side_up == 'black':\n",
    "        black_up_counter += 1\n",
    "        # Check the other side   \n",
    "        # If the other side is also black\n",
    "        if card[0] == 'black' and card[1] == 'black':    \n",
    "            black_down_counter += 1\n",
    "\n",
    "# Calculate the probability\n",
    "probability = black_down_counter / black_up_counter\n",
    "\n",
    "print(f'The estimated probability that the side facing down is black is {probability}')"
   ]
  },
  {
   "cell_type": "code",
   "execution_count": 3,
   "metadata": {},
   "outputs": [
    {
     "name": "stdout",
     "output_type": "stream",
     "text": [
      "The estimated probability that the side facing down is black is 0.800567814953849\n"
     ]
    }
   ],
   "source": [
    "# Define the cards\n",
    "cards = [('black', 'black'), ('black', 'white'), ('white', 'white'),('black', 'black')]\n",
    "\n",
    "# Number of simulations\n",
    "n_simulations = 1_000_000\n",
    "\n",
    "# Counter for the times the other side is black\n",
    "black_down_counter = 0\n",
    "black_up_counter = 0\n",
    "\n",
    "for _ in range(n_simulations):\n",
    "    # Draw a card\n",
    "    card = random.choice(cards)\n",
    "    \n",
    "    # Choose a side\n",
    "    side_up = random.choice(card)\n",
    "    \n",
    "    # If the chosen side is black\n",
    "    if side_up == 'black':\n",
    "        black_up_counter += 1\n",
    "        # Check the other side   \n",
    "        # If the other side is also black\n",
    "        if card[0] == 'black' and card[1] == 'black':    \n",
    "            black_down_counter += 1\n",
    "\n",
    "# Calculate the probability\n",
    "probability = black_down_counter / black_up_counter\n",
    "\n",
    "print(f'The estimated probability that the side facing down is black is {probability}')"
   ]
  },
  {
   "cell_type": "code",
   "execution_count": 8,
   "metadata": {},
   "outputs": [
    {
     "name": "stdout",
     "output_type": "stream",
     "text": [
      "The estimated probability that the side facing down is black is 0.7493392044021001\n"
     ]
    }
   ],
   "source": [
    "# Define the cards\n",
    "org_cards = [('black', 'black'), ('black', 'white'), ('white', 'white')]\n",
    "\n",
    "# Number of simulations\n",
    "n_simulations = 1_000_000\n",
    "\n",
    "# Counter for the times the other side is black\n",
    "black_down_counter = 0\n",
    "black_up_counter = 0\n",
    "\n",
    "for _ in range(n_simulations):\n",
    "    # Draw a card\n",
    "    cards = [('black', 'black'), ('black', 'white'), ('white', 'white')]\n",
    "    \n",
    "    card = random.choice(cards)\n",
    "    \n",
    "    cards.remove(card)\n",
    "    \n",
    "    card2 = random.choice(cards)\n",
    "    \n",
    "    # Choose a side\n",
    "    side_up_1 = random.choice(card)\n",
    "    \n",
    "    side_up_2 = random.choice(card2)\n",
    "    \n",
    "    # If the chosen side is black\n",
    "    if side_up_1 == 'black' and side_up_2 == 'white':\n",
    "        black_up_counter += 1\n",
    "        # Check the other side   \n",
    "        # If the other side is also black\n",
    "        if card[0] == 'black' and card[1] == 'black':    \n",
    "            black_down_counter += 1\n",
    "\n",
    "# Calculate the probability\n",
    "probability = black_down_counter / black_up_counter\n",
    "\n",
    "print(f'The estimated probability that the side facing down is black is {probability}')"
   ]
  }
 ],
 "metadata": {
  "kernelspec": {
   "display_name": ".venv",
   "language": "python",
   "name": "python3"
  },
  "language_info": {
   "codemirror_mode": {
    "name": "ipython",
    "version": 3
   },
   "file_extension": ".py",
   "mimetype": "text/x-python",
   "name": "python",
   "nbconvert_exporter": "python",
   "pygments_lexer": "ipython3",
   "version": "3.12.1"
  }
 },
 "nbformat": 4,
 "nbformat_minor": 2
}
